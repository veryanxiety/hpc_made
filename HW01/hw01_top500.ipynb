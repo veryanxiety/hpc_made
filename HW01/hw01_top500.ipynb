{
 "cells": [
  {
   "cell_type": "markdown",
   "metadata": {},
   "source": [
    "## 0. Подготовительная часть ##"
   ]
  },
  {
   "cell_type": "code",
   "execution_count": 2,
   "metadata": {},
   "outputs": [],
   "source": [
    "import pandas as pd\n",
    "import re\n",
    "import datetime as dt\n",
    "import json\n",
    "import numpy as np\n",
    "import scipy as sp\n",
    "import scipy.stats as st\n",
    "import scipy.integrate as integrate\n",
    "from sklearn import linear_model"
   ]
  },
  {
   "cell_type": "code",
   "execution_count": 192,
   "metadata": {},
   "outputs": [],
   "source": [
    "FILE_TOP500_DYNAMICS_LIST = 'data/top500_stat'\n",
    "FILE_TOP500_CURRENT = 'data/TOP500_202206.csv'\n",
    "FORECAST_DATE = dt.date(2025, 11, 1)\n",
    "ENERGY_PRODUCTION = 26823200 # GWh"
   ]
  },
  {
   "cell_type": "code",
   "execution_count": 130,
   "metadata": {},
   "outputs": [],
   "source": [
    "FLOP_SCALE = {'G': 1, 'T' : 1000, 'P':1000000, 'E': 1000000000}"
   ]
  },
  {
   "cell_type": "markdown",
   "metadata": {},
   "source": [
    "## 1. На основании данных рейтинга top500 спрогнозировать  производительность компьютера №1 в 2025 ##"
   ]
  },
  {
   "cell_type": "code",
   "execution_count": 137,
   "metadata": {},
   "outputs": [],
   "source": [
    "with open(FILE_TOP500_DYNAMICS_LIST, 'r') as ifile:\n",
    "    content = ifile.read()\n",
    "    table = re.findall(r'\\\"(\\d\\d)\\/(\\d\\d\\d\\d).*#1\\s=\\s(.*)\\s.*([A-Z]).*Flop.*\\\"', content)\n",
    "\n",
    "predata = {dt.date(int(i[1]), int(i[0]), 1) : float(i[2]) * FLOP_SCALE[i[3]] for i in table}\n",
    "min_date = min(data.keys())\n",
    "data = {i[0] - min_date : i[1] for i in predata.items()}"
   ]
  },
  {
   "cell_type": "code",
   "execution_count": 154,
   "metadata": {},
   "outputs": [
    {
     "data": {
      "text/plain": [
       "(0.9873899745487242, 0.0016012235309328887, 4.4365750956123335)"
      ]
     },
     "execution_count": 154,
     "metadata": {},
     "output_type": "execute_result"
    }
   ],
   "source": [
    "X_train = np.array([x.days for x in data.keys()]).reshape(-1,1)\n",
    "y_train = np.array([np.log(x) for x in data.values()])\n",
    "\n",
    "lr_model = linear_model.LinearRegression()\n",
    "lr_model.fit(X_train, y_train)\n",
    "lr_model.score(X_train, y_train), lr_model.coef_[0], lr_model.intercept_"
   ]
  },
  {
   "cell_type": "code",
   "execution_count": 155,
   "metadata": {},
   "outputs": [
    {
     "data": {
      "text/plain": [
       "14489106459.82071"
      ]
     },
     "execution_count": 155,
     "metadata": {},
     "output_type": "execute_result"
    }
   ],
   "source": [
    "lr_predicted = lr_model.predict(np.array((FORECAST_DATE - min_date).days).reshape(-1,1))\n",
    "np.exp(lr_predicted[0])"
   ]
  },
  {
   "cell_type": "markdown",
   "metadata": {},
   "source": [
    "### Пиковый суперкомпьютер к рейтингу на ноябрь 2025 будет иметь мощность 14489106459.82071 GFlop/s = 14.5 EFlop/s"
   ]
  },
  {
   "cell_type": "markdown",
   "metadata": {},
   "source": [
    " "
   ]
  },
  {
   "cell_type": "markdown",
   "metadata": {},
   "source": [
    "## 2. оцените какой процент всего производимого на Земле электричества потребляют все компьютеры из top500 (на основании открытых данных top500.org) ##"
   ]
  },
  {
   "cell_type": "code",
   "execution_count": 171,
   "metadata": {},
   "outputs": [],
   "source": [
    "df = pd.read_csv(FILE_TOP500_CURRENT, sep=';', decimal=\",\")"
   ]
  },
  {
   "cell_type": "code",
   "execution_count": 172,
   "metadata": {},
   "outputs": [
    {
     "data": {
      "text/plain": [
       "Index(['Rank', 'Previous Rank', 'First Appearance', 'First Rank', 'Name',\n",
       "       'Computer', 'Site', 'Manufacturer', 'Country', 'Year', 'Segment',\n",
       "       'Total Cores', 'Accelerator/Co-Processor Cores', 'Rmax [TFlop/s]',\n",
       "       'Rpeak [TFlop/s]', 'Nmax', 'Nhalf', 'HPCG [TFlop/s]', 'Power (kW)',\n",
       "       'Power Source', 'Energy Efficiency [GFlops/Watts]', 'Memory',\n",
       "       'Architecture', 'Processor', 'Processor Technology',\n",
       "       'Processor Speed (MHz)', 'Operating System', 'OS Family',\n",
       "       'Accelerator/Co-Processor', 'Cores per Socket', 'Processor Generation',\n",
       "       'System Model', 'System Family', 'Interconnect Family', 'Interconnect',\n",
       "       'Continent', 'Site ID', 'System ID'],\n",
       "      dtype='object')"
      ]
     },
     "execution_count": 172,
     "metadata": {},
     "output_type": "execute_result"
    }
   ],
   "source": [
    "df.columns"
   ]
  },
  {
   "cell_type": "code",
   "execution_count": 174,
   "metadata": {},
   "outputs": [
    {
     "data": {
      "text/plain": [
       "8.584869109947643"
      ]
     },
     "execution_count": 174,
     "metadata": {},
     "output_type": "execute_result"
    }
   ],
   "source": [
    "mean_power_consuption = np.mean(df[df['Energy Efficiency [GFlops/Watts]'].notnull()]['Energy Efficiency [GFlops/Watts]'])\n",
    "mean_power_consuption"
   ]
  },
  {
   "cell_type": "code",
   "execution_count": 184,
   "metadata": {},
   "outputs": [],
   "source": [
    "rmaxes = [float(i.replace(' ', '').replace(',','.')) for i in df['Rmax [TFlop/s]']]"
   ]
  },
  {
   "cell_type": "code",
   "execution_count": 185,
   "metadata": {},
   "outputs": [
    {
     "data": {
      "text/plain": [
       "4403083.21"
      ]
     },
     "execution_count": 185,
     "metadata": {},
     "output_type": "execute_result"
    }
   ],
   "source": [
    "total_rmax = np.sum(rmaxes)\n",
    "total_rmax"
   ]
  },
  {
   "cell_type": "code",
   "execution_count": 187,
   "metadata": {},
   "outputs": [
    {
     "name": "stdout",
     "output_type": "stream",
     "text": [
      "0.008584869109947643 TFlops/Watts\n"
     ]
    }
   ],
   "source": [
    "print(mean_power_consuption / 1000 , \"TFlops/Watts\")"
   ]
  },
  {
   "cell_type": "code",
   "execution_count": 189,
   "metadata": {},
   "outputs": [
    {
     "data": {
      "text/plain": [
       "512888799.3059749"
      ]
     },
     "execution_count": 189,
     "metadata": {},
     "output_type": "execute_result"
    }
   ],
   "source": [
    "energy_consumption = total_rmax / (mean_power_consuption / 1000)\n",
    "energy_consumption"
   ]
  },
  {
   "cell_type": "code",
   "execution_count": 190,
   "metadata": {},
   "outputs": [
    {
     "name": "stdout",
     "output_type": "stream",
     "text": [
      "0.5128887993059749 GWatts\n"
     ]
    }
   ],
   "source": [
    "print(energy_consumption / 1e9, 'GWatts')"
   ]
  },
  {
   "cell_type": "code",
   "execution_count": 194,
   "metadata": {},
   "outputs": [
    {
     "name": "stdout",
     "output_type": "stream",
     "text": [
      "Доля от мирового производства энергии 1.9121089180484615e-06 %\n"
     ]
    }
   ],
   "source": [
    "print('Доля от мирового производства энергии',(energy_consumption / 1e9) / ENERGY_PRODUCTION *100, '%')"
   ]
  },
  {
   "cell_type": "markdown",
   "metadata": {},
   "source": [
    "## 3. Бонус: Улучшить производительность программы с реализацией алгоритма матричного умножения ##"
   ]
  },
  {
   "cell_type": "code",
   "execution_count": null,
   "metadata": {},
   "outputs": [],
   "source": []
  }
 ],
 "metadata": {
  "kernelspec": {
   "display_name": "Python 3",
   "language": "python",
   "name": "python3"
  },
  "language_info": {
   "codemirror_mode": {
    "name": "ipython",
    "version": 3
   },
   "file_extension": ".py",
   "mimetype": "text/x-python",
   "name": "python",
   "nbconvert_exporter": "python",
   "pygments_lexer": "ipython3",
   "version": "3.8.3"
  }
 },
 "nbformat": 4,
 "nbformat_minor": 4
}
