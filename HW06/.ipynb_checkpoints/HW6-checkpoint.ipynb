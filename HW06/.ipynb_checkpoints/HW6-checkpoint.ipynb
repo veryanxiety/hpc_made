{
 "cells": [
  {
   "cell_type": "markdown",
   "metadata": {},
   "source": [
    "## 0. Подготовительная часть ##"
   ]
  },
  {
   "cell_type": "code",
   "execution_count": 1,
   "metadata": {},
   "outputs": [],
   "source": [
    "import warnings\n",
    "warnings.filterwarnings(\"ignore\")"
   ]
  },
  {
   "cell_type": "code",
   "execution_count": 2,
   "metadata": {},
   "outputs": [],
   "source": [
    "import time\n",
    "import os\n",
    "import math\n",
    "import multiprocessing as mp\n",
    "import numba\n",
    "import numpy as np\n",
    "\n",
    "from SALib.sample import saltelli\n",
    "from SALib.analyze import sobol"
   ]
  },
  {
   "cell_type": "code",
   "execution_count": 3,
   "metadata": {},
   "outputs": [],
   "source": [
    "def calc_func(x):\n",
    "    n = len(x)\n",
    "    result = 1\n",
    "    for i in range(n):\n",
    "        result *= math.exp(((i + 1) % 2) *math.sin(x[i]) ** i + (i % 2) * math.cos(x[i]) ** i)\n",
    "    return result"
   ]
  },
  {
   "cell_type": "code",
   "execution_count": 4,
   "metadata": {},
   "outputs": [],
   "source": [
    "problem = {\n",
    "    'num_vars': 4,\n",
    "    'names': ['x1', 'x2', 'x3', 'x4'],\n",
    "    'bounds': [\n",
    "        [-math.pi, math.pi],\n",
    "        [-math.pi, math.pi],\n",
    "        [-math.pi, math.pi],\n",
    "        [-math.pi, math.pi]\n",
    "    ]\n",
    "}"
   ]
  },
  {
   "cell_type": "code",
   "execution_count": 5,
   "metadata": {},
   "outputs": [
    {
     "data": {
      "text/plain": [
       "524288"
      ]
     },
     "execution_count": 5,
     "metadata": {},
     "output_type": "execute_result"
    }
   ],
   "source": [
    "NSAMPLES = 2 ** 19\n",
    "NSAMPLES"
   ]
  },
  {
   "cell_type": "code",
   "execution_count": 6,
   "metadata": {},
   "outputs": [],
   "source": [
    "NPROCS = 4"
   ]
  },
  {
   "cell_type": "markdown",
   "metadata": {},
   "source": [
    "## 1. Анализ чувствительности, тайминги ##"
   ]
  },
  {
   "cell_type": "code",
   "execution_count": 8,
   "metadata": {},
   "outputs": [],
   "source": [
    "def calc_sensitivity(problem, func, NSAMPLES):\n",
    "\n",
    "    start_time0 = time.time()\n",
    "    samples = saltelli.sample(problem, NSAMPLES)\n",
    "    sampling_time = time.time() - start_time0\n",
    "    \n",
    "    y = np.zeros([samples.shape[0]])\n",
    "    start_time1 = time.time()\n",
    "    for i, x in enumerate(samples):\n",
    "        y[i] = func(x)\n",
    "    calc_time = time.time() - start_time1\n",
    "    \n",
    "    start_time2 = time.time()\n",
    "    sobol_result = sobol.analyze(problem, y)\n",
    "    sobol_time = time.time() - start_time2\n",
    "    total_time = time.time() - start_time0\n",
    "    \n",
    "    print(f\"TOTAL TIME                {total_time} s\")\n",
    "    print(f\"     SAMPLING tooks       {sampling_time} s\")\n",
    "    print(f\"     CALCULATION tooks    {calc_time} s\")\n",
    "    print(f\"     SOBOL ANALYSIS tooks {sobol_time} s\")\n",
    "    print()\n",
    "    print(\"       S1 = \", sobol_result['S1'])\n",
    "\n",
    "    return total_time"
   ]
  },
  {
   "cell_type": "code",
   "execution_count": 9,
   "metadata": {},
   "outputs": [
    {
     "name": "stdout",
     "output_type": "stream",
     "text": [
      "=============== Straight forward calculation ===============\n",
      "TOTAL TIME                128.50101685523987 s\n",
      "     SAMPLING tooks       16.82408881187439 s\n",
      "     CALCULATION tooks    16.95706605911255 s\n",
      "     SOBOL ANALYSIS tooks 94.71982836723328 s\n",
      "\n",
      "       S1 =  [0.         0.38373294 0.10847947 0.28994713]\n"
     ]
    }
   ],
   "source": [
    "print(\"=============== Straight forward calculation ===============\")\n",
    "straight_forward_calc_time = calc_sensitivity(problem, calc_func, NSAMPLES)"
   ]
  },
  {
   "cell_type": "markdown",
   "metadata": {},
   "source": [
    "## 2. Numba ##"
   ]
  },
  {
   "cell_type": "code",
   "execution_count": 10,
   "metadata": {},
   "outputs": [],
   "source": [
    "@numba.njit\n",
    "def calc_func_nb(x):\n",
    "    n = len(x)\n",
    "    result = 1\n",
    "    for i in range(n):\n",
    "        result *= math.exp(((i + 1) % 2) * math.sin(x[i]) ** i + (i % 2) * math.cos(x[i]) ** i)\n",
    "    return result"
   ]
  },
  {
   "cell_type": "code",
   "execution_count": 11,
   "metadata": {},
   "outputs": [
    {
     "name": "stdout",
     "output_type": "stream",
     "text": [
      "=============== Numba calculation ===============\n",
      "TOTAL TIME                113.1530351638794 s\n",
      "     SAMPLING tooks       16.902222156524658 s\n",
      "     CALCULATION tooks    3.438960075378418 s\n",
      "     SOBOL ANALYSIS tooks 92.80640006065369 s\n",
      "\n",
      "       S1 =  [0.         0.38373294 0.10847947 0.28994713]\n"
     ]
    }
   ],
   "source": [
    "print(\"=============== Numba calculation ===============\")\n",
    "numba_calc_time = calc_sensitivity(problem, calc_func_nb, NSAMPLES)"
   ]
  },
  {
   "cell_type": "markdown",
   "metadata": {},
   "source": [
    "## 3.  Multiprocessing ##"
   ]
  },
  {
   "cell_type": "code",
   "execution_count": 7,
   "metadata": {},
   "outputs": [],
   "source": [
    "def calc_sensitivity_mp(problem, func, NSAMPLES):\n",
    "\n",
    "    start_time0 = time.time()\n",
    "    samples = saltelli.sample(problem, NSAMPLES)\n",
    "    sampling_time = time.time() - start_time0\n",
    "    \n",
    "    y = np.zeros([samples.shape[0]])\n",
    "    start_time1 = time.time()\n",
    "    with mp.Pool(NPROCS) as pool:\n",
    "        y = pool.map(func, samples.tolist())\n",
    "    calc_time = time.time() - start_time1\n",
    "    \n",
    "    total_time = time.time() - start_time0\n",
    "    \n",
    "    print(f\"TOTAL TIME                {total_time} s\")\n",
    "    print(f\"     SAMPLING tooks       {sampling_time} s\")\n",
    "    print(f\"     CALCULATION tooks    {calc_time} s\")\n",
    "\n",
    "    return total_time"
   ]
  },
  {
   "cell_type": "code",
   "execution_count": null,
   "metadata": {},
   "outputs": [
    {
     "name": "stdout",
     "output_type": "stream",
     "text": [
      "=============== Multiprocessing calculation ===============\n"
     ]
    }
   ],
   "source": [
    "print(\"=============== Multiprocessing calculation ===============\")\n",
    "mp_calc_time = calc_sensitivity_mp(problem, calc_func, NSAMPLES)"
   ]
  },
  {
   "cell_type": "code",
   "execution_count": null,
   "metadata": {},
   "outputs": [],
   "source": []
  }
 ],
 "metadata": {
  "kernelspec": {
   "display_name": "Python 3",
   "language": "python",
   "name": "python3"
  },
  "language_info": {
   "codemirror_mode": {
    "name": "ipython",
    "version": 3
   },
   "file_extension": ".py",
   "mimetype": "text/x-python",
   "name": "python",
   "nbconvert_exporter": "python",
   "pygments_lexer": "ipython3",
   "version": "3.8.3"
  }
 },
 "nbformat": 4,
 "nbformat_minor": 4
}
